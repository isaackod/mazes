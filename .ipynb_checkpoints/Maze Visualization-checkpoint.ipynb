{
 "cells": [
  {
   "cell_type": "code",
   "execution_count": 1,
   "metadata": {},
   "outputs": [],
   "source": [
    "import generation_algos as ga"
   ]
  },
  {
   "cell_type": "code",
   "execution_count": 4,
   "metadata": {},
   "outputs": [
    {
     "name": "stdout",
     "output_type": "stream",
     "text": [
      "+---+---+---+---+---+---+---+---+---+---+---+---+---+---+---+\n",
      "|                   |       |   |   |   |   |   |   |   |   |\n",
      "+---+---+---+---+   +---+   +   +   +   +   +   +   +   +   +\n",
      "|   |           |   |               |       |       |   |   |\n",
      "+   +---+---+   +   +---+---+---+   +---+   +---+   +   +   +\n",
      "|   |   |   |                   |       |           |       |\n",
      "+   +   +   +---+---+---+---+   +---+   +---+---+   +---+   +\n",
      "|                           |   |   |   |   |   |   |   |   |\n",
      "+---+---+---+---+---+---+   +   +   +   +   +   +   +   +   +\n",
      "|   |   |           |   |   |                   |   |   |   |\n",
      "+   +   +---+---+   +   +   +---+---+---+---+   +   +   +   +\n",
      "|                       |   |       |       |   |           |\n",
      "+---+---+---+---+---+   +   +---+   +---+   +   +---+---+   +\n",
      "|   |       |                   |   |       |       |       |\n",
      "+   +---+   +---+---+---+---+   +   +---+   +---+   +---+   +\n",
      "|   |                   |   |       |   |       |       |   |\n",
      "+   +---+---+---+---+   +   +---+   +   +---+   +---+   +   +\n",
      "|           |       |   |           |       |               |\n",
      "+---+---+   +---+   +   +---+---+   +---+   +---+---+---+   +\n",
      "|   |   |   |       |   |   |           |       |   |   |   |\n",
      "+   +   +   +---+   +   +   +---+---+   +---+   +   +   +   +\n",
      "|   |                           |                   |       |\n",
      "+   +---+---+---+---+---+---+   +---+---+---+---+   +---+   +\n",
      "|   |       |   |   |       |   |   |           |   |   |   |\n",
      "+   +---+   +   +   +---+   +   +   +---+---+   +   +   +   +\n",
      "|       |                   |   |           |       |   |   |\n",
      "+---+   +---+---+---+---+   +   +---+---+   +---+   +   +   +\n",
      "|   |   |       |       |   |       |   |   |       |       |\n",
      "+   +   +---+   +---+   +   +---+   +   +   +---+   +---+   +\n",
      "|                                                           |\n",
      "+---+---+---+---+---+---+---+---+---+---+---+---+---+---+---+\n",
      "\n",
      "+---+---+---+---+---+---+\n",
      "|       |           |   |\n",
      "+   +---+   +---+---+   +\n",
      "|   |       |           |\n",
      "+   +---+   +---+---+   +\n",
      "|                   |   |\n",
      "+---+---+---+   +---+   +\n",
      "|           |           |\n",
      "+---+   +---+---+---+   +\n",
      "|       |       |   |   |\n",
      "+---+   +   +---+   +   +\n",
      "|                       |\n",
      "+---+---+---+---+---+---+\n",
      "\n"
     ]
    }
   ],
   "source": [
    "my_tree_maze = ga.BinaryTree(15, 15)\n",
    "my_tree_maze.on()\n",
    "print(my_tree_maze)\n",
    "\n",
    "my_sidewinder = ga.Sidewinder(6, 6, 70)\n",
    "my_sidewinder.on()\n",
    "print(my_sidewinder)"
   ]
  },
  {
   "cell_type": "code",
   "execution_count": 5,
   "metadata": {},
   "outputs": [
    {
     "name": "stdout",
     "output_type": "stream",
     "text": [
      "pygame 1.9.6\n",
      "Hello from the pygame community. https://www.pygame.org/contribute.html\n"
     ]
    }
   ],
   "source": [
    "import pygame"
   ]
  },
  {
   "cell_type": "code",
   "execution_count": 2,
   "metadata": {},
   "outputs": [],
   "source": [
    "import pygame\n",
    "background_colour = (255,255,255)\n",
    "(width, height) = (300, 200)\n",
    "screen = pygame.display.set_mode((width, height))\n",
    "pygame.display.set_caption('Tutorial 1')\n",
    "screen.fill(background_colour)\n",
    "pygame.display.flip()\n",
    "running = True\n",
    "while running:\n",
    "  for event in pygame.event.get():\n",
    "    if event.type == pygame.MOUSEBUTTONDOWN:\n",
    "      running = False\n"
   ]
  },
  {
   "cell_type": "code",
   "execution_count": 2,
   "metadata": {},
   "outputs": [
    {
     "name": "stderr",
     "output_type": "stream",
     "text": [
      "ERROR:root:Invalid alias: The name clear can't be aliased because it is another magic command.\n",
      "ERROR:root:Invalid alias: The name more can't be aliased because it is another magic command.\n",
      "ERROR:root:Invalid alias: The name less can't be aliased because it is another magic command.\n",
      "ERROR:root:Invalid alias: The name man can't be aliased because it is another magic command.\n"
     ]
    }
   ],
   "source": [
    "# Create the PixelArray.\n",
    "ar = pygame.PixelArray (surface)\n",
    "r, g, b = 0, 0, 0\n",
    "# Do some easy gradient effect.\n",
    "for y in range(255):\n",
    "    r, g, b = y, y, y\n",
    "    ar[:,y] = (r, g, b)\n",
    "del ar\n",
    "show(surface)"
   ]
  },
  {
   "cell_type": "code",
   "execution_count": null,
   "metadata": {},
   "outputs": [],
   "source": []
  }
 ],
 "metadata": {
  "kernelspec": {
   "display_name": "Python 3",
   "language": "python",
   "name": "python3"
  },
  "language_info": {
   "codemirror_mode": {
    "name": "ipython",
    "version": 3
   },
   "file_extension": ".py",
   "mimetype": "text/x-python",
   "name": "python",
   "nbconvert_exporter": "python",
   "pygments_lexer": "ipython3",
   "version": "3.7.3"
  }
 },
 "nbformat": 4,
 "nbformat_minor": 2
}
